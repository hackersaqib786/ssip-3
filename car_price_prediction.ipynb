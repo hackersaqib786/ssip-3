{
  "cells": [
    {
      "cell_type": "code",
      "execution_count": null,
      "id": "38d52aa5",
      "metadata": {
        "_cell_guid": "d5d38aff-bed8-40cd-9d48-b3d3b3525ced",
        "_uuid": "f88a796b-6e48-4188-917a-6eebf8b0c2c4",
        "execution": {
          "iopub.execute_input": "2023-10-16T15:08:49.082541Z",
          "iopub.status.busy": "2023-10-16T15:08:49.082144Z",
          "iopub.status.idle": "2023-10-16T15:08:50.934488Z",
          "shell.execute_reply": "2023-10-16T15:08:50.933544Z"
        },
        "jupyter": {
          "outputs_hidden": false
        },
        "papermill": {
          "duration": 1.863616,
          "end_time": "2023-10-16T15:08:50.936418",
          "exception": false,
          "start_time": "2023-10-16T15:08:49.072802",
          "status": "completed"
        },
        "tags": [],
        "id": "38d52aa5"
      },
      "outputs": [],
      "source": [
        "import numpy as np\n",
        "import pandas as pd\n",
        "import matplotlib.pyplot as plt\n",
        "import seaborn as sns\n",
        "from sklearn.preprocessing import StandardScaler, LabelEncoder\n",
        "from sklearn.model_selection import train_test_split\n",
        "from sklearn.linear_model import LinearRegression\n",
        "from sklearn.metrics import mean_squared_error,r2_score\n",
        "\n",
        "import warnings\n",
        "warnings.filterwarnings('ignore')\n",
        "\n"
      ]
    },
    {
      "cell_type": "code",
      "execution_count": null,
      "id": "1bd2fe99",
      "metadata": {
        "_cell_guid": "98de2589-6369-476e-a9e4-0306bc71a377",
        "_uuid": "91e67665-bcbd-4ff1-9485-39ed6ab353f5",
        "execution": {
          "iopub.execute_input": "2023-10-16T15:08:50.948891Z",
          "iopub.status.busy": "2023-10-16T15:08:50.948358Z",
          "iopub.status.idle": "2023-10-16T15:08:50.978378Z",
          "shell.execute_reply": "2023-10-16T15:08:50.977388Z"
        },
        "jupyter": {
          "outputs_hidden": false
        },
        "papermill": {
          "duration": 0.038557,
          "end_time": "2023-10-16T15:08:50.980212",
          "exception": false,
          "start_time": "2023-10-16T15:08:50.941655",
          "status": "completed"
        },
        "tags": [],
        "id": "1bd2fe99"
      },
      "outputs": [],
      "source": [
        "df = pd.read_csv('car data.csv')"
      ]
    },
    {
      "cell_type": "code",
      "execution_count": null,
      "id": "3d86c0a8",
      "metadata": {
        "_cell_guid": "8a1fed76-462b-40c1-a7cd-94793dd9c648",
        "_uuid": "b371bfd2-8266-4d1f-9db6-836499edc45e",
        "execution": {
          "iopub.execute_input": "2023-10-16T15:08:51.002878Z",
          "iopub.status.busy": "2023-10-16T15:08:51.002254Z",
          "iopub.status.idle": "2023-10-16T15:08:51.020184Z",
          "shell.execute_reply": "2023-10-16T15:08:51.018595Z"
        },
        "jupyter": {
          "outputs_hidden": false
        },
        "papermill": {
          "duration": 0.026085,
          "end_time": "2023-10-16T15:08:51.022328",
          "exception": false,
          "start_time": "2023-10-16T15:08:50.996243",
          "status": "completed"
        },
        "tags": [],
        "colab": {
          "base_uri": "https://localhost:8080/"
        },
        "id": "3d86c0a8",
        "outputId": "ed0cbe28-865a-4bf1-b72f-ae8a9f29e619"
      },
      "outputs": [
        {
          "output_type": "execute_result",
          "data": {
            "text/plain": [
              "Car_Name         0\n",
              "Year             0\n",
              "Selling_Price    0\n",
              "Present_Price    0\n",
              "Driven_kms       0\n",
              "Fuel_Type        0\n",
              "Selling_type     0\n",
              "Transmission     0\n",
              "Owner            0\n",
              "dtype: int64"
            ]
          },
          "metadata": {},
          "execution_count": 5
        }
      ],
      "source": [
        "# check Missing value\n",
        "df.isnull().sum()"
      ]
    },
    {
      "cell_type": "code",
      "execution_count": null,
      "id": "66eb819e",
      "metadata": {
        "_cell_guid": "5d6b1138-cb44-4ff5-bf2e-ead706fd69ff",
        "_uuid": "e330790c-b179-4d88-89f3-4137625e175d",
        "execution": {
          "iopub.execute_input": "2023-10-16T15:08:51.042707Z",
          "iopub.status.busy": "2023-10-16T15:08:51.042441Z",
          "iopub.status.idle": "2023-10-16T15:08:51.059123Z",
          "shell.execute_reply": "2023-10-16T15:08:51.057922Z"
        },
        "jupyter": {
          "outputs_hidden": false
        },
        "papermill": {
          "duration": 0.0247,
          "end_time": "2023-10-16T15:08:51.061330",
          "exception": false,
          "start_time": "2023-10-16T15:08:51.036630",
          "status": "completed"
        },
        "tags": [],
        "colab": {
          "base_uri": "https://localhost:8080/"
        },
        "id": "66eb819e",
        "outputId": "af82a617-203c-4908-ea70-00894e11507b"
      },
      "outputs": [
        {
          "output_type": "execute_result",
          "data": {
            "text/plain": [
              "2"
            ]
          },
          "metadata": {},
          "execution_count": 6
        }
      ],
      "source": [
        "# Check Duplication\n",
        "df.duplicated().sum()"
      ]
    },
    {
      "cell_type": "code",
      "execution_count": null,
      "id": "69f55190",
      "metadata": {
        "execution": {
          "iopub.execute_input": "2023-10-16T15:08:51.084461Z",
          "iopub.status.busy": "2023-10-16T15:08:51.083311Z",
          "iopub.status.idle": "2023-10-16T15:08:51.090958Z",
          "shell.execute_reply": "2023-10-16T15:08:51.090137Z"
        },
        "papermill": {
          "duration": 0.015349,
          "end_time": "2023-10-16T15:08:51.092356",
          "exception": false,
          "start_time": "2023-10-16T15:08:51.077007",
          "status": "completed"
        },
        "tags": [],
        "colab": {
          "base_uri": "https://localhost:8080/"
        },
        "id": "69f55190",
        "outputId": "9246b833-2031-4a3c-8859-d9a604017435"
      },
      "outputs": [
        {
          "output_type": "execute_result",
          "data": {
            "text/plain": [
              "Car_Name          object\n",
              "Year               int64\n",
              "Selling_Price    float64\n",
              "Present_Price    float64\n",
              "Driven_kms         int64\n",
              "Fuel_Type         object\n",
              "Selling_type      object\n",
              "Transmission      object\n",
              "Owner              int64\n",
              "dtype: object"
            ]
          },
          "metadata": {},
          "execution_count": 7
        }
      ],
      "source": [
        "#Check datatype\n",
        "df.dtypes\n"
      ]
    },
    {
      "cell_type": "code",
      "execution_count": null,
      "id": "8ea3ce48",
      "metadata": {
        "execution": {
          "iopub.execute_input": "2023-10-16T15:08:51.104982Z",
          "iopub.status.busy": "2023-10-16T15:08:51.104024Z",
          "iopub.status.idle": "2023-10-16T15:08:51.115300Z",
          "shell.execute_reply": "2023-10-16T15:08:51.114454Z"
        },
        "papermill": {
          "duration": 0.019325,
          "end_time": "2023-10-16T15:08:51.117035",
          "exception": false,
          "start_time": "2023-10-16T15:08:51.097710",
          "status": "completed"
        },
        "tags": [],
        "colab": {
          "base_uri": "https://localhost:8080/"
        },
        "id": "8ea3ce48",
        "outputId": "bbf818e9-9344-4eb1-ca1e-26998a3d1150"
      },
      "outputs": [
        {
          "output_type": "execute_result",
          "data": {
            "text/plain": [
              "Car_Name          98\n",
              "Year              16\n",
              "Selling_Price    156\n",
              "Present_Price    148\n",
              "Driven_kms       206\n",
              "Fuel_Type          3\n",
              "Selling_type       2\n",
              "Transmission       2\n",
              "Owner              3\n",
              "dtype: int64"
            ]
          },
          "metadata": {},
          "execution_count": 8
        }
      ],
      "source": [
        "# Check the number of unique values of each column\n",
        "df.nunique()"
      ]
    },
    {
      "cell_type": "code",
      "execution_count": null,
      "id": "aa90d59e",
      "metadata": {
        "execution": {
          "iopub.execute_input": "2023-10-16T15:08:51.130245Z",
          "iopub.status.busy": "2023-10-16T15:08:51.129176Z",
          "iopub.status.idle": "2023-10-16T15:08:51.179291Z",
          "shell.execute_reply": "2023-10-16T15:08:51.178098Z"
        },
        "papermill": {
          "duration": 0.058934,
          "end_time": "2023-10-16T15:08:51.181431",
          "exception": false,
          "start_time": "2023-10-16T15:08:51.122497",
          "status": "completed"
        },
        "tags": [],
        "colab": {
          "base_uri": "https://localhost:8080/",
          "height": 300
        },
        "id": "aa90d59e",
        "outputId": "dfd9a9e7-f8c0-49da-c224-80a9ff2c062e"
      },
      "outputs": [
        {
          "output_type": "execute_result",
          "data": {
            "text/plain": [
              "              Year  Selling_Price  Present_Price     Driven_kms       Owner\n",
              "count   301.000000     301.000000     301.000000     301.000000  301.000000\n",
              "mean   2013.627907       4.661296       7.628472   36947.205980    0.043189\n",
              "std       2.891554       5.082812       8.642584   38886.883882    0.247915\n",
              "min    2003.000000       0.100000       0.320000     500.000000    0.000000\n",
              "25%    2012.000000       0.900000       1.200000   15000.000000    0.000000\n",
              "50%    2014.000000       3.600000       6.400000   32000.000000    0.000000\n",
              "75%    2016.000000       6.000000       9.900000   48767.000000    0.000000\n",
              "max    2018.000000      35.000000      92.600000  500000.000000    3.000000"
            ],
            "text/html": [
              "\n",
              "  <div id=\"df-1f2ddf3e-4b1e-4a24-92af-229e431bc754\" class=\"colab-df-container\">\n",
              "    <div>\n",
              "<style scoped>\n",
              "    .dataframe tbody tr th:only-of-type {\n",
              "        vertical-align: middle;\n",
              "    }\n",
              "\n",
              "    .dataframe tbody tr th {\n",
              "        vertical-align: top;\n",
              "    }\n",
              "\n",
              "    .dataframe thead th {\n",
              "        text-align: right;\n",
              "    }\n",
              "</style>\n",
              "<table border=\"1\" class=\"dataframe\">\n",
              "  <thead>\n",
              "    <tr style=\"text-align: right;\">\n",
              "      <th></th>\n",
              "      <th>Year</th>\n",
              "      <th>Selling_Price</th>\n",
              "      <th>Present_Price</th>\n",
              "      <th>Driven_kms</th>\n",
              "      <th>Owner</th>\n",
              "    </tr>\n",
              "  </thead>\n",
              "  <tbody>\n",
              "    <tr>\n",
              "      <th>count</th>\n",
              "      <td>301.000000</td>\n",
              "      <td>301.000000</td>\n",
              "      <td>301.000000</td>\n",
              "      <td>301.000000</td>\n",
              "      <td>301.000000</td>\n",
              "    </tr>\n",
              "    <tr>\n",
              "      <th>mean</th>\n",
              "      <td>2013.627907</td>\n",
              "      <td>4.661296</td>\n",
              "      <td>7.628472</td>\n",
              "      <td>36947.205980</td>\n",
              "      <td>0.043189</td>\n",
              "    </tr>\n",
              "    <tr>\n",
              "      <th>std</th>\n",
              "      <td>2.891554</td>\n",
              "      <td>5.082812</td>\n",
              "      <td>8.642584</td>\n",
              "      <td>38886.883882</td>\n",
              "      <td>0.247915</td>\n",
              "    </tr>\n",
              "    <tr>\n",
              "      <th>min</th>\n",
              "      <td>2003.000000</td>\n",
              "      <td>0.100000</td>\n",
              "      <td>0.320000</td>\n",
              "      <td>500.000000</td>\n",
              "      <td>0.000000</td>\n",
              "    </tr>\n",
              "    <tr>\n",
              "      <th>25%</th>\n",
              "      <td>2012.000000</td>\n",
              "      <td>0.900000</td>\n",
              "      <td>1.200000</td>\n",
              "      <td>15000.000000</td>\n",
              "      <td>0.000000</td>\n",
              "    </tr>\n",
              "    <tr>\n",
              "      <th>50%</th>\n",
              "      <td>2014.000000</td>\n",
              "      <td>3.600000</td>\n",
              "      <td>6.400000</td>\n",
              "      <td>32000.000000</td>\n",
              "      <td>0.000000</td>\n",
              "    </tr>\n",
              "    <tr>\n",
              "      <th>75%</th>\n",
              "      <td>2016.000000</td>\n",
              "      <td>6.000000</td>\n",
              "      <td>9.900000</td>\n",
              "      <td>48767.000000</td>\n",
              "      <td>0.000000</td>\n",
              "    </tr>\n",
              "    <tr>\n",
              "      <th>max</th>\n",
              "      <td>2018.000000</td>\n",
              "      <td>35.000000</td>\n",
              "      <td>92.600000</td>\n",
              "      <td>500000.000000</td>\n",
              "      <td>3.000000</td>\n",
              "    </tr>\n",
              "  </tbody>\n",
              "</table>\n",
              "</div>\n",
              "    <div class=\"colab-df-buttons\">\n",
              "\n",
              "  <div class=\"colab-df-container\">\n",
              "    <button class=\"colab-df-convert\" onclick=\"convertToInteractive('df-1f2ddf3e-4b1e-4a24-92af-229e431bc754')\"\n",
              "            title=\"Convert this dataframe to an interactive table.\"\n",
              "            style=\"display:none;\">\n",
              "\n",
              "  <svg xmlns=\"http://www.w3.org/2000/svg\" height=\"24px\" viewBox=\"0 -960 960 960\">\n",
              "    <path d=\"M120-120v-720h720v720H120Zm60-500h600v-160H180v160Zm220 220h160v-160H400v160Zm0 220h160v-160H400v160ZM180-400h160v-160H180v160Zm440 0h160v-160H620v160ZM180-180h160v-160H180v160Zm440 0h160v-160H620v160Z\"/>\n",
              "  </svg>\n",
              "    </button>\n",
              "\n",
              "  <style>\n",
              "    .colab-df-container {\n",
              "      display:flex;\n",
              "      gap: 12px;\n",
              "    }\n",
              "\n",
              "    .colab-df-convert {\n",
              "      background-color: #E8F0FE;\n",
              "      border: none;\n",
              "      border-radius: 50%;\n",
              "      cursor: pointer;\n",
              "      display: none;\n",
              "      fill: #1967D2;\n",
              "      height: 32px;\n",
              "      padding: 0 0 0 0;\n",
              "      width: 32px;\n",
              "    }\n",
              "\n",
              "    .colab-df-convert:hover {\n",
              "      background-color: #E2EBFA;\n",
              "      box-shadow: 0px 1px 2px rgba(60, 64, 67, 0.3), 0px 1px 3px 1px rgba(60, 64, 67, 0.15);\n",
              "      fill: #174EA6;\n",
              "    }\n",
              "\n",
              "    .colab-df-buttons div {\n",
              "      margin-bottom: 4px;\n",
              "    }\n",
              "\n",
              "    [theme=dark] .colab-df-convert {\n",
              "      background-color: #3B4455;\n",
              "      fill: #D2E3FC;\n",
              "    }\n",
              "\n",
              "    [theme=dark] .colab-df-convert:hover {\n",
              "      background-color: #434B5C;\n",
              "      box-shadow: 0px 1px 3px 1px rgba(0, 0, 0, 0.15);\n",
              "      filter: drop-shadow(0px 1px 2px rgba(0, 0, 0, 0.3));\n",
              "      fill: #FFFFFF;\n",
              "    }\n",
              "  </style>\n",
              "\n",
              "    <script>\n",
              "      const buttonEl =\n",
              "        document.querySelector('#df-1f2ddf3e-4b1e-4a24-92af-229e431bc754 button.colab-df-convert');\n",
              "      buttonEl.style.display =\n",
              "        google.colab.kernel.accessAllowed ? 'block' : 'none';\n",
              "\n",
              "      async function convertToInteractive(key) {\n",
              "        const element = document.querySelector('#df-1f2ddf3e-4b1e-4a24-92af-229e431bc754');\n",
              "        const dataTable =\n",
              "          await google.colab.kernel.invokeFunction('convertToInteractive',\n",
              "                                                    [key], {});\n",
              "        if (!dataTable) return;\n",
              "\n",
              "        const docLinkHtml = 'Like what you see? Visit the ' +\n",
              "          '<a target=\"_blank\" href=https://colab.research.google.com/notebooks/data_table.ipynb>data table notebook</a>'\n",
              "          + ' to learn more about interactive tables.';\n",
              "        element.innerHTML = '';\n",
              "        dataTable['output_type'] = 'display_data';\n",
              "        await google.colab.output.renderOutput(dataTable, element);\n",
              "        const docLink = document.createElement('div');\n",
              "        docLink.innerHTML = docLinkHtml;\n",
              "        element.appendChild(docLink);\n",
              "      }\n",
              "    </script>\n",
              "  </div>\n",
              "\n",
              "\n",
              "<div id=\"df-60a88669-36a2-4b64-9b42-e03a3938d983\">\n",
              "  <button class=\"colab-df-quickchart\" onclick=\"quickchart('df-60a88669-36a2-4b64-9b42-e03a3938d983')\"\n",
              "            title=\"Suggest charts\"\n",
              "            style=\"display:none;\">\n",
              "\n",
              "<svg xmlns=\"http://www.w3.org/2000/svg\" height=\"24px\"viewBox=\"0 0 24 24\"\n",
              "     width=\"24px\">\n",
              "    <g>\n",
              "        <path d=\"M19 3H5c-1.1 0-2 .9-2 2v14c0 1.1.9 2 2 2h14c1.1 0 2-.9 2-2V5c0-1.1-.9-2-2-2zM9 17H7v-7h2v7zm4 0h-2V7h2v10zm4 0h-2v-4h2v4z\"/>\n",
              "    </g>\n",
              "</svg>\n",
              "  </button>\n",
              "\n",
              "<style>\n",
              "  .colab-df-quickchart {\n",
              "      --bg-color: #E8F0FE;\n",
              "      --fill-color: #1967D2;\n",
              "      --hover-bg-color: #E2EBFA;\n",
              "      --hover-fill-color: #174EA6;\n",
              "      --disabled-fill-color: #AAA;\n",
              "      --disabled-bg-color: #DDD;\n",
              "  }\n",
              "\n",
              "  [theme=dark] .colab-df-quickchart {\n",
              "      --bg-color: #3B4455;\n",
              "      --fill-color: #D2E3FC;\n",
              "      --hover-bg-color: #434B5C;\n",
              "      --hover-fill-color: #FFFFFF;\n",
              "      --disabled-bg-color: #3B4455;\n",
              "      --disabled-fill-color: #666;\n",
              "  }\n",
              "\n",
              "  .colab-df-quickchart {\n",
              "    background-color: var(--bg-color);\n",
              "    border: none;\n",
              "    border-radius: 50%;\n",
              "    cursor: pointer;\n",
              "    display: none;\n",
              "    fill: var(--fill-color);\n",
              "    height: 32px;\n",
              "    padding: 0;\n",
              "    width: 32px;\n",
              "  }\n",
              "\n",
              "  .colab-df-quickchart:hover {\n",
              "    background-color: var(--hover-bg-color);\n",
              "    box-shadow: 0 1px 2px rgba(60, 64, 67, 0.3), 0 1px 3px 1px rgba(60, 64, 67, 0.15);\n",
              "    fill: var(--button-hover-fill-color);\n",
              "  }\n",
              "\n",
              "  .colab-df-quickchart-complete:disabled,\n",
              "  .colab-df-quickchart-complete:disabled:hover {\n",
              "    background-color: var(--disabled-bg-color);\n",
              "    fill: var(--disabled-fill-color);\n",
              "    box-shadow: none;\n",
              "  }\n",
              "\n",
              "  .colab-df-spinner {\n",
              "    border: 2px solid var(--fill-color);\n",
              "    border-color: transparent;\n",
              "    border-bottom-color: var(--fill-color);\n",
              "    animation:\n",
              "      spin 1s steps(1) infinite;\n",
              "  }\n",
              "\n",
              "  @keyframes spin {\n",
              "    0% {\n",
              "      border-color: transparent;\n",
              "      border-bottom-color: var(--fill-color);\n",
              "      border-left-color: var(--fill-color);\n",
              "    }\n",
              "    20% {\n",
              "      border-color: transparent;\n",
              "      border-left-color: var(--fill-color);\n",
              "      border-top-color: var(--fill-color);\n",
              "    }\n",
              "    30% {\n",
              "      border-color: transparent;\n",
              "      border-left-color: var(--fill-color);\n",
              "      border-top-color: var(--fill-color);\n",
              "      border-right-color: var(--fill-color);\n",
              "    }\n",
              "    40% {\n",
              "      border-color: transparent;\n",
              "      border-right-color: var(--fill-color);\n",
              "      border-top-color: var(--fill-color);\n",
              "    }\n",
              "    60% {\n",
              "      border-color: transparent;\n",
              "      border-right-color: var(--fill-color);\n",
              "    }\n",
              "    80% {\n",
              "      border-color: transparent;\n",
              "      border-right-color: var(--fill-color);\n",
              "      border-bottom-color: var(--fill-color);\n",
              "    }\n",
              "    90% {\n",
              "      border-color: transparent;\n",
              "      border-bottom-color: var(--fill-color);\n",
              "    }\n",
              "  }\n",
              "</style>\n",
              "\n",
              "  <script>\n",
              "    async function quickchart(key) {\n",
              "      const quickchartButtonEl =\n",
              "        document.querySelector('#' + key + ' button');\n",
              "      quickchartButtonEl.disabled = true;  // To prevent multiple clicks.\n",
              "      quickchartButtonEl.classList.add('colab-df-spinner');\n",
              "      try {\n",
              "        const charts = await google.colab.kernel.invokeFunction(\n",
              "            'suggestCharts', [key], {});\n",
              "      } catch (error) {\n",
              "        console.error('Error during call to suggestCharts:', error);\n",
              "      }\n",
              "      quickchartButtonEl.classList.remove('colab-df-spinner');\n",
              "      quickchartButtonEl.classList.add('colab-df-quickchart-complete');\n",
              "    }\n",
              "    (() => {\n",
              "      let quickchartButtonEl =\n",
              "        document.querySelector('#df-60a88669-36a2-4b64-9b42-e03a3938d983 button');\n",
              "      quickchartButtonEl.style.display =\n",
              "        google.colab.kernel.accessAllowed ? 'block' : 'none';\n",
              "    })();\n",
              "  </script>\n",
              "</div>\n",
              "\n",
              "    </div>\n",
              "  </div>\n"
            ]
          },
          "metadata": {},
          "execution_count": 9
        }
      ],
      "source": [
        "#Check statistics of data set\n",
        "df.describe()"
      ]
    },
    {
      "cell_type": "code",
      "execution_count": null,
      "id": "c77bb66b",
      "metadata": {
        "execution": {
          "iopub.execute_input": "2023-10-16T15:08:51.205423Z",
          "iopub.status.busy": "2023-10-16T15:08:51.205088Z",
          "iopub.status.idle": "2023-10-16T15:08:51.213099Z",
          "shell.execute_reply": "2023-10-16T15:08:51.211784Z"
        },
        "papermill": {
          "duration": 0.017204,
          "end_time": "2023-10-16T15:08:51.215407",
          "exception": false,
          "start_time": "2023-10-16T15:08:51.198203",
          "status": "completed"
        },
        "tags": [],
        "colab": {
          "base_uri": "https://localhost:8080/",
          "height": 524
        },
        "id": "c77bb66b",
        "outputId": "5ccf0eec-32ed-4815-8b7b-ac1ea6510e71"
      },
      "outputs": [
        {
          "output_type": "error",
          "ename": "KeyError",
          "evalue": "ignored",
          "traceback": [
            "\u001b[0;31m---------------------------------------------------------------------------\u001b[0m",
            "\u001b[0;31mKeyError\u001b[0m                                  Traceback (most recent call last)",
            "\u001b[0;32m/usr/local/lib/python3.10/dist-packages/pandas/core/indexes/base.py\u001b[0m in \u001b[0;36mget_loc\u001b[0;34m(self, key, method, tolerance)\u001b[0m\n\u001b[1;32m   3801\u001b[0m             \u001b[0;32mtry\u001b[0m\u001b[0;34m:\u001b[0m\u001b[0;34m\u001b[0m\u001b[0;34m\u001b[0m\u001b[0m\n\u001b[0;32m-> 3802\u001b[0;31m                 \u001b[0;32mreturn\u001b[0m \u001b[0mself\u001b[0m\u001b[0;34m.\u001b[0m\u001b[0m_engine\u001b[0m\u001b[0;34m.\u001b[0m\u001b[0mget_loc\u001b[0m\u001b[0;34m(\u001b[0m\u001b[0mcasted_key\u001b[0m\u001b[0;34m)\u001b[0m\u001b[0;34m\u001b[0m\u001b[0;34m\u001b[0m\u001b[0m\n\u001b[0m\u001b[1;32m   3803\u001b[0m             \u001b[0;32mexcept\u001b[0m \u001b[0mKeyError\u001b[0m \u001b[0;32mas\u001b[0m \u001b[0merr\u001b[0m\u001b[0;34m:\u001b[0m\u001b[0;34m\u001b[0m\u001b[0;34m\u001b[0m\u001b[0m\n",
            "\u001b[0;32m/usr/local/lib/python3.10/dist-packages/pandas/_libs/index.pyx\u001b[0m in \u001b[0;36mpandas._libs.index.IndexEngine.get_loc\u001b[0;34m()\u001b[0m\n",
            "\u001b[0;32m/usr/local/lib/python3.10/dist-packages/pandas/_libs/index.pyx\u001b[0m in \u001b[0;36mpandas._libs.index.IndexEngine.get_loc\u001b[0;34m()\u001b[0m\n",
            "\u001b[0;32mpandas/_libs/hashtable_class_helper.pxi\u001b[0m in \u001b[0;36mpandas._libs.hashtable.PyObjectHashTable.get_item\u001b[0;34m()\u001b[0m\n",
            "\u001b[0;32mpandas/_libs/hashtable_class_helper.pxi\u001b[0m in \u001b[0;36mpandas._libs.hashtable.PyObjectHashTable.get_item\u001b[0;34m()\u001b[0m\n",
            "\u001b[0;31mKeyError\u001b[0m: 'fueltype'",
            "\nThe above exception was the direct cause of the following exception:\n",
            "\u001b[0;31mKeyError\u001b[0m                                  Traceback (most recent call last)",
            "\u001b[0;32m<ipython-input-11-0fd1e37a1fd5>\u001b[0m in \u001b[0;36m<cell line: 3>\u001b[0;34m()\u001b[0m\n\u001b[1;32m      3\u001b[0m \u001b[0;32mfor\u001b[0m \u001b[0mcol\u001b[0m \u001b[0;32min\u001b[0m \u001b[0mcategorical_columns\u001b[0m\u001b[0;34m:\u001b[0m\u001b[0;34m\u001b[0m\u001b[0;34m\u001b[0m\u001b[0m\n\u001b[1;32m      4\u001b[0m \u001b[0;34m\u001b[0m\u001b[0m\n\u001b[0;32m----> 5\u001b[0;31m     \u001b[0mprint\u001b[0m\u001b[0;34m(\u001b[0m\u001b[0;34mf\"Category in {col} is : {df[col].unique()}\"\u001b[0m\u001b[0;34m)\u001b[0m\u001b[0;34m\u001b[0m\u001b[0;34m\u001b[0m\u001b[0m\n\u001b[0m",
            "\u001b[0;32m/usr/local/lib/python3.10/dist-packages/pandas/core/frame.py\u001b[0m in \u001b[0;36m__getitem__\u001b[0;34m(self, key)\u001b[0m\n\u001b[1;32m   3805\u001b[0m             \u001b[0;32mif\u001b[0m \u001b[0mself\u001b[0m\u001b[0;34m.\u001b[0m\u001b[0mcolumns\u001b[0m\u001b[0;34m.\u001b[0m\u001b[0mnlevels\u001b[0m \u001b[0;34m>\u001b[0m \u001b[0;36m1\u001b[0m\u001b[0;34m:\u001b[0m\u001b[0;34m\u001b[0m\u001b[0;34m\u001b[0m\u001b[0m\n\u001b[1;32m   3806\u001b[0m                 \u001b[0;32mreturn\u001b[0m \u001b[0mself\u001b[0m\u001b[0;34m.\u001b[0m\u001b[0m_getitem_multilevel\u001b[0m\u001b[0;34m(\u001b[0m\u001b[0mkey\u001b[0m\u001b[0;34m)\u001b[0m\u001b[0;34m\u001b[0m\u001b[0;34m\u001b[0m\u001b[0m\n\u001b[0;32m-> 3807\u001b[0;31m             \u001b[0mindexer\u001b[0m \u001b[0;34m=\u001b[0m \u001b[0mself\u001b[0m\u001b[0;34m.\u001b[0m\u001b[0mcolumns\u001b[0m\u001b[0;34m.\u001b[0m\u001b[0mget_loc\u001b[0m\u001b[0;34m(\u001b[0m\u001b[0mkey\u001b[0m\u001b[0;34m)\u001b[0m\u001b[0;34m\u001b[0m\u001b[0;34m\u001b[0m\u001b[0m\n\u001b[0m\u001b[1;32m   3808\u001b[0m             \u001b[0;32mif\u001b[0m \u001b[0mis_integer\u001b[0m\u001b[0;34m(\u001b[0m\u001b[0mindexer\u001b[0m\u001b[0;34m)\u001b[0m\u001b[0;34m:\u001b[0m\u001b[0;34m\u001b[0m\u001b[0;34m\u001b[0m\u001b[0m\n\u001b[1;32m   3809\u001b[0m                 \u001b[0mindexer\u001b[0m \u001b[0;34m=\u001b[0m \u001b[0;34m[\u001b[0m\u001b[0mindexer\u001b[0m\u001b[0;34m]\u001b[0m\u001b[0;34m\u001b[0m\u001b[0;34m\u001b[0m\u001b[0m\n",
            "\u001b[0;32m/usr/local/lib/python3.10/dist-packages/pandas/core/indexes/base.py\u001b[0m in \u001b[0;36mget_loc\u001b[0;34m(self, key, method, tolerance)\u001b[0m\n\u001b[1;32m   3802\u001b[0m                 \u001b[0;32mreturn\u001b[0m \u001b[0mself\u001b[0m\u001b[0;34m.\u001b[0m\u001b[0m_engine\u001b[0m\u001b[0;34m.\u001b[0m\u001b[0mget_loc\u001b[0m\u001b[0;34m(\u001b[0m\u001b[0mcasted_key\u001b[0m\u001b[0;34m)\u001b[0m\u001b[0;34m\u001b[0m\u001b[0;34m\u001b[0m\u001b[0m\n\u001b[1;32m   3803\u001b[0m             \u001b[0;32mexcept\u001b[0m \u001b[0mKeyError\u001b[0m \u001b[0;32mas\u001b[0m \u001b[0merr\u001b[0m\u001b[0;34m:\u001b[0m\u001b[0;34m\u001b[0m\u001b[0;34m\u001b[0m\u001b[0m\n\u001b[0;32m-> 3804\u001b[0;31m                 \u001b[0;32mraise\u001b[0m \u001b[0mKeyError\u001b[0m\u001b[0;34m(\u001b[0m\u001b[0mkey\u001b[0m\u001b[0;34m)\u001b[0m \u001b[0;32mfrom\u001b[0m \u001b[0merr\u001b[0m\u001b[0;34m\u001b[0m\u001b[0;34m\u001b[0m\u001b[0m\n\u001b[0m\u001b[1;32m   3805\u001b[0m             \u001b[0;32mexcept\u001b[0m \u001b[0mTypeError\u001b[0m\u001b[0;34m:\u001b[0m\u001b[0;34m\u001b[0m\u001b[0;34m\u001b[0m\u001b[0m\n\u001b[1;32m   3806\u001b[0m                 \u001b[0;31m# If we have a listlike key, _check_indexing_error will raise\u001b[0m\u001b[0;34m\u001b[0m\u001b[0;34m\u001b[0m\u001b[0m\n",
            "\u001b[0;31mKeyError\u001b[0m: 'fueltype'"
          ]
        }
      ],
      "source": [
        "categorical_columns = ['fueltype','aspiration','doornumber','carbody','drivewheel','enginelocation','enginetype','cylindernumber','fuelsystem']\n",
        "\n",
        "for col in categorical_columns:\n",
        "\n",
        "    print(f\"Category in {col} is : {df[col].unique()}\")"
      ]
    },
    {
      "cell_type": "code",
      "execution_count": null,
      "id": "392c2458",
      "metadata": {
        "execution": {
          "iopub.execute_input": "2023-10-16T15:08:51.241377Z",
          "iopub.status.busy": "2023-10-16T15:08:51.241007Z",
          "iopub.status.idle": "2023-10-16T15:08:53.677726Z",
          "shell.execute_reply": "2023-10-16T15:08:53.676503Z"
        },
        "papermill": {
          "duration": 2.445925,
          "end_time": "2023-10-16T15:08:53.679574",
          "exception": false,
          "start_time": "2023-10-16T15:08:51.233649",
          "status": "completed"
        },
        "tags": [],
        "id": "392c2458"
      },
      "outputs": [],
      "source": [
        "# Distribution of Numerical Features\n",
        "numerical_features = ['wheelbase', 'carlength', 'carwidth', 'carheight', 'curbweight',\n",
        "                      'enginesize', 'boreratio', 'stroke', 'compressionratio', 'horsepower',\n",
        "                      'peakrpm', 'citympg', 'highwaympg', 'price']\n",
        "\n",
        "plt.figure(figsize=(12, 8))\n",
        "for feature in numerical_features:\n",
        "    plt.subplot(3, 5, numerical_features.index(feature) + 1)\n",
        "    sns.histplot(data=df[feature], bins=20, kde=True)\n",
        "    plt.title(feature)\n",
        "plt.tight_layout()\n",
        "plt.show()"
      ]
    },
    {
      "cell_type": "code",
      "execution_count": null,
      "id": "fecadc23",
      "metadata": {
        "execution": {
          "iopub.execute_input": "2023-10-16T15:08:53.696805Z",
          "iopub.status.busy": "2023-10-16T15:08:53.695584Z",
          "iopub.status.idle": "2023-10-16T15:08:53.915713Z",
          "shell.execute_reply": "2023-10-16T15:08:53.914589Z"
        },
        "papermill": {
          "duration": 0.230577,
          "end_time": "2023-10-16T15:08:53.917726",
          "exception": false,
          "start_time": "2023-10-16T15:08:53.687149",
          "status": "completed"
        },
        "tags": [],
        "id": "fecadc23"
      },
      "outputs": [],
      "source": [
        "# Price Analysis\n",
        "plt.figure(figsize=(8, 6))\n",
        "sns.histplot(data=df['price'], bins=20, kde=True)\n",
        "plt.title('Distribution of Price')\n",
        "plt.show()"
      ]
    },
    {
      "cell_type": "code",
      "execution_count": null,
      "id": "8755b453",
      "metadata": {
        "execution": {
          "iopub.execute_input": "2023-10-16T15:08:53.934882Z",
          "iopub.status.busy": "2023-10-16T15:08:53.934553Z",
          "iopub.status.idle": "2023-10-16T15:08:55.167854Z",
          "shell.execute_reply": "2023-10-16T15:08:55.166586Z"
        },
        "papermill": {
          "duration": 1.244048,
          "end_time": "2023-10-16T15:08:55.169643",
          "exception": false,
          "start_time": "2023-10-16T15:08:53.925595",
          "status": "completed"
        },
        "tags": [],
        "id": "8755b453"
      },
      "outputs": [],
      "source": [
        "# Define the list of categorical columns to analyze\n",
        "categorical_columns = ['fueltype', 'aspiration', 'doornumber', 'carbody', 'drivewheel',\n",
        "                       'enginelocation', 'enginetype', 'cylindernumber', 'fuelsystem']\n",
        "\n",
        "# Create subplots\n",
        "fig, axes = plt.subplots(nrows=3, ncols=3, figsize=(12, 9))\n",
        "axes = axes.ravel()  # Flatten the 2D array of axes\n",
        "\n",
        "# Loop through each categorical column\n",
        "for i, column in enumerate(categorical_columns):\n",
        "    sns.countplot(x=df[column], data=df, palette='bright', ax=axes[i], saturation=0.95)\n",
        "    for container in axes[i].containers:\n",
        "        axes[i].bar_label(container, color='black', size=10)\n",
        "    axes[i].set_title(f'Count Plot of {column.capitalize()}')\n",
        "    axes[i].set_xlabel(column.capitalize())\n",
        "    axes[i].set_ylabel('Count')\n",
        "\n",
        "# Adjust layout and show plots\n",
        "plt.tight_layout()\n",
        "plt.show()\n",
        "\n",
        "\n"
      ]
    },
    {
      "cell_type": "code",
      "execution_count": null,
      "id": "84f0d3f6",
      "metadata": {
        "execution": {
          "iopub.execute_input": "2023-10-16T15:08:55.190562Z",
          "iopub.status.busy": "2023-10-16T15:08:55.190237Z",
          "iopub.status.idle": "2023-10-16T15:08:55.507664Z",
          "shell.execute_reply": "2023-10-16T15:08:55.506706Z"
        },
        "papermill": {
          "duration": 0.330554,
          "end_time": "2023-10-16T15:08:55.509236",
          "exception": false,
          "start_time": "2023-10-16T15:08:55.178682",
          "status": "completed"
        },
        "tags": [],
        "id": "84f0d3f6"
      },
      "outputs": [],
      "source": [
        "n = 20  # Number of top car models to plot\n",
        "top_car_models = df['CarName'].value_counts().head(n)\n",
        "\n",
        "plt.figure(figsize=(10, 6))\n",
        "sns.barplot(x=top_car_models.values, y=top_car_models.index)\n",
        "plt.title(f'Top {n} Car Models by Frequency')\n",
        "plt.xlabel('Frequency')\n",
        "plt.ylabel('Car Model')\n",
        "plt.tight_layout()\n",
        "plt.show()"
      ]
    },
    {
      "cell_type": "code",
      "execution_count": null,
      "id": "5a45b66d",
      "metadata": {
        "execution": {
          "iopub.execute_input": "2023-10-16T15:08:55.530333Z",
          "iopub.status.busy": "2023-10-16T15:08:55.530023Z",
          "iopub.status.idle": "2023-10-16T15:08:55.852913Z",
          "shell.execute_reply": "2023-10-16T15:08:55.851969Z"
        },
        "papermill": {
          "duration": 0.336227,
          "end_time": "2023-10-16T15:08:55.855083",
          "exception": false,
          "start_time": "2023-10-16T15:08:55.518856",
          "status": "completed"
        },
        "tags": [],
        "id": "5a45b66d"
      },
      "outputs": [],
      "source": [
        "# Calculate average price for each car model\n",
        "avg_prices_by_car = df.groupby('CarName')['price'].mean().sort_values(ascending=False)\n",
        "\n",
        "# Plot top N car models by average price\n",
        "n = 20  # Number of top car models to plot\n",
        "top_car_models = avg_prices_by_car.head(n)\n",
        "\n",
        "plt.figure(figsize=(10, 6))\n",
        "sns.barplot(x=top_car_models.values, y=top_car_models.index)\n",
        "plt.title(f'Top {n} Car Models by Average Price')\n",
        "plt.xlabel('Average Price')\n",
        "plt.ylabel('Car Model')\n",
        "plt.tight_layout()\n",
        "plt.show()"
      ]
    },
    {
      "cell_type": "code",
      "execution_count": null,
      "id": "cf80d817",
      "metadata": {
        "execution": {
          "iopub.execute_input": "2023-10-16T15:08:55.878462Z",
          "iopub.status.busy": "2023-10-16T15:08:55.878160Z",
          "iopub.status.idle": "2023-10-16T15:08:57.352924Z",
          "shell.execute_reply": "2023-10-16T15:08:57.351886Z"
        },
        "papermill": {
          "duration": 1.4884,
          "end_time": "2023-10-16T15:08:57.354526",
          "exception": false,
          "start_time": "2023-10-16T15:08:55.866126",
          "status": "completed"
        },
        "tags": [],
        "id": "cf80d817"
      },
      "outputs": [],
      "source": [
        "# Categorical Feature vs. Price\n",
        "plt.figure(figsize=(12, 8))\n",
        "for feature in categorical_columns:\n",
        "    plt.subplot(3, 3, categorical_columns.index(feature) + 1)\n",
        "    sns.boxplot(data=df, x=feature, y='price')\n",
        "    plt.title(f'{feature} vs. Price')\n",
        "plt.tight_layout()\n",
        "plt.show()"
      ]
    },
    {
      "cell_type": "code",
      "execution_count": null,
      "id": "e3218086",
      "metadata": {
        "execution": {
          "iopub.execute_input": "2023-10-16T15:08:57.380476Z",
          "iopub.status.busy": "2023-10-16T15:08:57.380121Z",
          "iopub.status.idle": "2023-10-16T15:08:57.923166Z",
          "shell.execute_reply": "2023-10-16T15:08:57.921701Z"
        },
        "papermill": {
          "duration": 0.558465,
          "end_time": "2023-10-16T15:08:57.925633",
          "exception": false,
          "start_time": "2023-10-16T15:08:57.367168",
          "status": "completed"
        },
        "tags": [],
        "id": "e3218086"
      },
      "outputs": [],
      "source": [
        "# Correlation Analysis\n",
        "correlation_matrix = df[numerical_features].corr()\n",
        "plt.figure(figsize=(10, 8))\n",
        "sns.heatmap(correlation_matrix, annot=True, cmap='coolwarm')\n",
        "plt.title('Correlation Heatmap')\n",
        "plt.show()"
      ]
    },
    {
      "cell_type": "code",
      "execution_count": null,
      "id": "34ad7332",
      "metadata": {
        "execution": {
          "iopub.execute_input": "2023-10-16T15:08:58.015527Z",
          "iopub.status.busy": "2023-10-16T15:08:58.015247Z",
          "iopub.status.idle": "2023-10-16T15:08:58.037648Z",
          "shell.execute_reply": "2023-10-16T15:08:58.036671Z"
        },
        "papermill": {
          "duration": 0.042061,
          "end_time": "2023-10-16T15:08:58.039914",
          "exception": false,
          "start_time": "2023-10-16T15:08:57.997853",
          "status": "completed"
        },
        "tags": [],
        "id": "34ad7332"
      },
      "outputs": [],
      "source": [
        "# Extract brand and model from CarName\n",
        "df['brand'] = df['CarName'].apply(lambda x: x.split(' ')[0])\n",
        "df['model'] = df['CarName'].apply(lambda x: ' '.join(x.split(' ')[1:]))\n",
        "\n",
        "# Define categorical and numerical columns\n",
        "categorical_columns = ['fueltype', 'aspiration', 'doornumber', 'carbody', 'drivewheel',\n",
        "                       'enginelocation', 'enginetype', 'cylindernumber', 'fuelsystem', 'brand', 'model']\n",
        "numerical_columns = ['wheelbase', 'carlength', 'carwidth', 'carheight', 'curbweight',\n",
        "                     'enginesize', 'boreratio', 'stroke', 'compressionratio', 'horsepower',\n",
        "                     'peakrpm', 'citympg', 'highwaympg']\n",
        "\n",
        "# Encoding categorical variables\n",
        "label_encoder = LabelEncoder()\n",
        "for column in categorical_columns:\n",
        "    df[column] = label_encoder.fit_transform(df[column])\n",
        "\n",
        "# Feature engineering\n",
        "df['power_to_weight_ratio'] = df['horsepower'] / df['curbweight']\n",
        "for column in numerical_columns:\n",
        "    df[f'{column}_squared'] = df[column] ** 2\n",
        "df['log_enginesize'] = np.log(df['enginesize'] + 1)\n",
        "\n",
        "# Feature scaling\n",
        "scaler = StandardScaler()\n",
        "df[numerical_columns] = scaler.fit_transform(df[numerical_columns])"
      ]
    },
    {
      "cell_type": "code",
      "execution_count": null,
      "id": "03fd89cf",
      "metadata": {
        "execution": {
          "iopub.execute_input": "2023-10-16T15:08:58.101614Z",
          "iopub.status.busy": "2023-10-16T15:08:58.101335Z",
          "iopub.status.idle": "2023-10-16T15:08:58.127084Z",
          "shell.execute_reply": "2023-10-16T15:08:58.126106Z"
        },
        "papermill": {
          "duration": 0.043647,
          "end_time": "2023-10-16T15:08:58.128943",
          "exception": false,
          "start_time": "2023-10-16T15:08:58.085296",
          "status": "completed"
        },
        "tags": [],
        "id": "03fd89cf"
      },
      "outputs": [],
      "source": [
        "# Splitting the dataset\n",
        "X = df.drop(['price', 'CarName'], axis=1)  # Include the engineered features and CarName\n",
        "y = df['price']\n",
        "X_train, X_test, y_train, y_test = train_test_split(X, y, test_size=0.2, random_state=42)\n",
        "\n",
        "# Model training\n",
        "model = LinearRegression()\n",
        "model.fit(X_train, y_train)\n",
        "\n",
        "# Predictions\n",
        "y_pred = model.predict(X_test)\n"
      ]
    },
    {
      "cell_type": "code",
      "execution_count": null,
      "id": "4f397fde",
      "metadata": {
        "execution": {
          "iopub.execute_input": "2023-10-16T15:08:58.160043Z",
          "iopub.status.busy": "2023-10-16T15:08:58.159657Z",
          "iopub.status.idle": "2023-10-16T15:08:58.166546Z",
          "shell.execute_reply": "2023-10-16T15:08:58.165471Z"
        },
        "papermill": {
          "duration": 0.024921,
          "end_time": "2023-10-16T15:08:58.168282",
          "exception": false,
          "start_time": "2023-10-16T15:08:58.143361",
          "status": "completed"
        },
        "tags": [],
        "id": "4f397fde"
      },
      "outputs": [],
      "source": [
        "# Evaluate the model\n",
        "mse = mean_squared_error(y_test, y_pred)\n",
        "r2_square = r2_score(y_test,y_pred)\n",
        "print(f\" R-squared: {r2_square}\")\n",
        "print(f'Mean Squared Error: {mse}')"
      ]
    },
    {
      "cell_type": "code",
      "execution_count": null,
      "id": "12416eec",
      "metadata": {
        "execution": {
          "iopub.execute_input": "2023-10-16T15:08:58.201227Z",
          "iopub.status.busy": "2023-10-16T15:08:58.200530Z",
          "iopub.status.idle": "2023-10-16T15:08:58.212459Z",
          "shell.execute_reply": "2023-10-16T15:08:58.211679Z"
        },
        "papermill": {
          "duration": 0.029683,
          "end_time": "2023-10-16T15:08:58.213952",
          "exception": false,
          "start_time": "2023-10-16T15:08:58.184269",
          "status": "completed"
        },
        "tags": [],
        "id": "12416eec"
      },
      "outputs": [],
      "source": [
        "pred_df=pd.DataFrame({'Actual Value':y_test,'Predicted Value':y_pred,'Difference':y_test-y_pred})\n",
        "pred_df"
      ]
    }
  ],
  "metadata": {
    "kernelspec": {
      "display_name": "Python 3",
      "language": "python",
      "name": "python3"
    },
    "language_info": {
      "codemirror_mode": {
        "name": "ipython",
        "version": 3
      },
      "file_extension": ".py",
      "mimetype": "text/x-python",
      "name": "python",
      "nbconvert_exporter": "python",
      "pygments_lexer": "ipython3",
      "version": "3.10.12"
    },
    "papermill": {
      "default_parameters": {},
      "duration": 18.729803,
      "end_time": "2023-10-16T15:08:59.342613",
      "environment_variables": {},
      "exception": null,
      "input_path": "__notebook__.ipynb",
      "output_path": "__notebook__.ipynb",
      "parameters": {},
      "start_time": "2023-10-16T15:08:40.612810",
      "version": "2.4.0"
    },
    "colab": {
      "provenance": []
    }
  },
  "nbformat": 4,
  "nbformat_minor": 5
}